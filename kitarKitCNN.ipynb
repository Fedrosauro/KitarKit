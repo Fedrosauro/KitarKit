{
  "cells": [
    {
      "cell_type": "code",
      "execution_count": null,
      "metadata": {
        "id": "CH9ADjs8p2bx"
      },
      "outputs": [],
      "source": [
        "!pip install mirdata -q"
      ]
    },
    {
      "cell_type": "code",
      "execution_count": null,
      "metadata": {
        "id": "pRHbyjmNgL_e"
      },
      "outputs": [],
      "source": [
        "import os\n",
        "import pandas as pd\n",
        "from torch.utils.data import Dataset\n",
        "from torchvision import datasets\n",
        "import matplotlib.pyplot as plt\n",
        "from torch.utils.data import DataLoader\n",
        "import torch\n",
        "import torchaudio\n",
        "import numpy as np\n",
        "import random"
      ]
    },
    {
      "cell_type": "code",
      "execution_count": null,
      "metadata": {
        "id": "qKXtsAsY0AWe"
      },
      "outputs": [],
      "source": [
        "import mirdata\n",
        "\n",
        "data = mirdata.initialize('egfxset')\n",
        "data.download()"
      ]
    },
    {
      "cell_type": "code",
      "execution_count": null,
      "metadata": {
        "colab": {
          "base_uri": "https://localhost:8080/"
        },
        "id": "vX5IQc321uG9",
        "outputId": "d75b737f-2abc-4df1-9746-9426368856d8"
      },
      "outputs": [
        {
          "name": "stdout",
          "output_type": "stream",
          "text": [
            "Original data: 8970\n"
          ]
        }
      ],
      "source": [
        "data_dictionary = data.get_random_track_splits([0.8, 0.2], seed=42, split_names=['Train', 'Test'])\n",
        "\n",
        "trainset = data_dictionary['Train']\n",
        "testset = data_dictionary['Test']\n",
        "\n",
        "print(f'Original data: {len(trainset) + len(testset)}')"
      ]
    },
    {
      "cell_type": "code",
      "execution_count": null,
      "metadata": {
        "colab": {
          "base_uri": "https://localhost:8080/"
        },
        "id": "tGsGVXG3_4Zr",
        "outputId": "3546cb04-a802-462a-de4f-d310394da8b2"
      },
      "outputs": [
        {
          "name": "stdout",
          "output_type": "stream",
          "text": [
            "Random path from label: /root/mir_datasets/egfxset/TubeScreamer/Middle-Neck/4-16.wav\n"
          ]
        }
      ],
      "source": [
        "def obtain_path(label: str):\n",
        "  temp = label.split('_')\n",
        "  res = \"/root/mir_datasets/egfxset/\" + temp[0] + \"/\" + temp[1] + \".wav\"\n",
        "  return res\n",
        "\n",
        "print(f'Random path from label: {obtain_path(testset[random.randint(3, 100)])}')"
      ]
    },
    {
      "cell_type": "code",
      "execution_count": null,
      "metadata": {
        "colab": {
          "base_uri": "https://localhost:8080/"
        },
        "id": "hNHnP3gscEpi",
        "outputId": "e8d50498-17b8-48f3-dba5-cfd8aa188eb2"
      },
      "outputs": [
        {
          "name": "stdout",
          "output_type": "stream",
          "text": [
            "New filtered data: 8864\n"
          ]
        }
      ],
      "source": [
        "filt_trainset = []\n",
        "filt_testset = []\n",
        "\n",
        "for label in trainset:\n",
        "  path = obtain_path(label)\n",
        "  audio, _ = torchaudio.load(path)\n",
        "  audio_size = audio.size()[1]\n",
        "\n",
        "  if int(audio_size) == int(240000):\n",
        "    filt_trainset.append(label)\n",
        "\n",
        "for label in testset:\n",
        "  path = obtain_path(label)\n",
        "  audio, _ = torchaudio.load(path)\n",
        "  audio_size = audio.size()[1]\n",
        "\n",
        "  if int(audio_size) == int(240000):\n",
        "    filt_testset.append(label)\n",
        "\n",
        "print(f'New filtered data: {len(filt_trainset) + len(filt_testset)}')"
      ]
    },
    {
      "cell_type": "code",
      "execution_count": null,
      "metadata": {
        "id": "vPFPR2-2XM97"
      },
      "outputs": [],
      "source": [
        "## Mapping the effectcs in order to type of effects\n",
        "\n",
        "effect_map = {}\n",
        "effect_map[\"TubeScreamer\"] = \"distorsion\"\n",
        "effect_map[\"RAT\"] = \"distorsion\"\n",
        "effect_map[\"TapeEcho\"] = \"delay\"\n",
        "effect_map[\"Spring Reverb\"] = \"reverb\"\n",
        "effect_map[\"Sweep Echo\"] = \"delay\"\n",
        "effect_map[\"Flanger\"] = \"modulation\"\n",
        "effect_map[\"Hall Reverb\"] = \"reverb\"\n",
        "effect_map[\"Phaser\"] = \"modulation\"\n",
        "effect_map[\"Plate Reverb\"] = \"reverb\"\n",
        "effect_map[\"Chorus\"] = \"modulation\"\n",
        "effect_map[\"Clean\"] = \"clean\"\n",
        "effect_map[\"Digital Delay\"] = \"delay\"\n",
        "effect_map[\"BluesDriver\"] = \"distorsion\""
      ]
    },
    {
      "cell_type": "code",
      "execution_count": null,
      "metadata": {
        "id": "2RRNGnfUUXUr"
      },
      "outputs": [],
      "source": [
        "effect_to_int = {\n",
        "    \"modulation\": 0,\n",
        "    \"reverb\": 1,\n",
        "    \"delay\": 2,\n",
        "    \"distorsion\": 3,\n",
        "    \"clean\": 4,\n",
        "    \"distorsion-delay\": 5,\n",
        "    \"distorsion-reverb\": 6,\n",
        "    \"distorsion-modulation\": 7,\n",
        "    \"delay-reverb\": 8,\n",
        "    \"delay-modulation\": 9,\n",
        "    \"reverb-modulation\": 10,\n",
        "    \"distorsion-delay-reverb\": 11,\n",
        "    \"distorsion-delay-modulation\": 12,\n",
        "    \"distorsion-reverb-modulation\": 13,\n",
        "    \"delay-reverb-modulation\": 14,\n",
        "    \"distorsion-delay-reverb-modulation\": 15\n",
        "}"
      ]
    },
    {
      "cell_type": "code",
      "execution_count": null,
      "metadata": {
        "id": "mLYBLEHwGGch"
      },
      "outputs": [],
      "source": [
        "class CustomMusicDataset(Dataset):\n",
        "    def __init__(self, annotations_file, music_dir, tdata):\n",
        "        annotation_path = os.path.join(music_dir, annotations_file)\n",
        "        self.csv_data = pd.read_csv(annotation_path, header=None)\n",
        "        self.labels = [ \"clean\", \"distorsion\", \"delay\", \"reverb\", \"modulation\",\n",
        "                        \"distorsion-delay\", \"distorsion-reverb\", \"distorsion-modulation\",\n",
        "                        \"delay-reverb\", \"delay-modulation\", \"reverb-modulation\", \"distorsion-delay-reverb\", \"distorsion-delay-modulation\",\n",
        "                        \"distorsion-reverb-modulation\", \"delay-reverb-modulation\", \"distorsion-delay-reverb-modulation\"]\n",
        "        self.tdata = tdata\n",
        "        self.music_dir = music_dir\n",
        "\n",
        "    def __len__(self):\n",
        "        return len(self.tdata)\n",
        "\n",
        "    def __getitem__(self, idx):\n",
        "        audio_path = obtain_path(self.tdata[idx])\n",
        "        audio, _ = torchaudio.load(audio_path)\n",
        "        audio = audio[:, 48000:48000*3]\n",
        "        label = effect_map[self.tdata[idx].split('_')[0]]\n",
        "        label = effect_to_int[label]\n",
        "\n",
        "        return audio, label\n",
        "\n",
        "train_set = CustomMusicDataset('egfxset_metadata.csv', '/root/mir_datasets/egfxset/', filt_trainset)\n",
        "test_set = CustomMusicDataset('egfxset_metadata.csv', '/root/mir_datasets/egfxset/', filt_testset)"
      ]
    },
    {
      "cell_type": "code",
      "execution_count": null,
      "metadata": {
        "id": "eH5huY2XVq9-"
      },
      "outputs": [],
      "source": [
        "BATCH_SIZE = 100\n",
        "train_loader = DataLoader(train_set, batch_size=BATCH_SIZE, shuffle=True)\n",
        "test_loader = DataLoader(test_set, batch_size=BATCH_SIZE, shuffle=False)"
      ]
    },
    {
      "cell_type": "code",
      "execution_count": null,
      "metadata": {
        "id": "EQskRLTTVUpd"
      },
      "outputs": [],
      "source": [
        "x, y = next(iter(train_loader))"
      ]
    },
    {
      "cell_type": "code",
      "execution_count": null,
      "metadata": {
        "colab": {
          "base_uri": "https://localhost:8080/"
        },
        "id": "OGfZy64HhT0S",
        "outputId": "e8df3617-59d4-4451-c8d8-075b230929ab"
      },
      "outputs": [
        {
          "data": {
            "text/plain": [
              "torch.Size([100, 1, 96000])"
            ]
          },
          "execution_count": 12,
          "metadata": {},
          "output_type": "execute_result"
        }
      ],
      "source": [
        "x.size()"
      ]
    },
    {
      "cell_type": "code",
      "execution_count": null,
      "metadata": {
        "id": "-p3d0ryAa6KT"
      },
      "outputs": [],
      "source": [
        "in_channels = x.size()[1]\n",
        "\n",
        "class ConvNet1D(torch.nn.Module):\n",
        "    def __init__(self):\n",
        "        super().__init__()\n",
        "        self.conv = torch.nn.Sequential(\n",
        "            torch.nn.Conv1d(in_channels, 3, 3),\n",
        "            torch.nn.BatchNorm1d(3),\n",
        "            torch.nn.ReLU(),\n",
        "            torch.nn.MaxPool1d(3),\n",
        "            torch.nn.Conv1d(3, 6, 3, stride = 2),\n",
        "            torch.nn.BatchNorm1d(6),\n",
        "            torch.nn.ReLU(),\n",
        "            torch.nn.MaxPool1d(3),\n",
        "            torch.nn.Conv1d(6, 3, 3, stride = 2),\n",
        "            torch.nn.BatchNorm1d(3),\n",
        "            torch.nn.ReLU(),\n",
        "            torch.nn.MaxPool1d(3)\n",
        "        )\n",
        "        self.FC = torch.nn.Sequential(\n",
        "            torch.nn.Linear(2664, 1200),\n",
        "            torch.nn.ReLU(),\n",
        "            torch.nn.Linear(1200, 16)\n",
        "        )\n",
        "\n",
        "    def forward(self, x):\n",
        "      x = self.conv(x)\n",
        "      x = x.flatten(start_dim=1)\n",
        "      x = self.FC(x)\n",
        "\n",
        "      return x\n",
        "\n",
        "model = ConvNet1D()"
      ]
    },
    {
      "cell_type": "code",
      "execution_count": null,
      "metadata": {
        "colab": {
          "base_uri": "https://localhost:8080/"
        },
        "id": "aq41UEe4hJvI",
        "outputId": "929ffc50-bf27-4e2f-db04-4837c084a9ac"
      },
      "outputs": [
        {
          "data": {
            "text/plain": [
              "torch.Size([100, 16])"
            ]
          },
          "execution_count": 14,
          "metadata": {},
          "output_type": "execute_result"
        }
      ],
      "source": [
        "model(x).size()"
      ]
    },
    {
      "cell_type": "code",
      "execution_count": null,
      "metadata": {
        "id": "AGeXpU8zcqiq"
      },
      "outputs": [],
      "source": [
        "loss = torch.nn.CrossEntropyLoss()\n",
        "optimizer = torch.optim.Adam(model.parameters(), lr=0.001)"
      ]
    },
    {
      "cell_type": "code",
      "execution_count": null,
      "metadata": {
        "colab": {
          "base_uri": "https://localhost:8080/"
        },
        "id": "wQGUYQczdqoD",
        "outputId": "71cd6c18-c751-43ed-a343-e44eb1f16c74"
      },
      "outputs": [
        {
          "data": {
            "text/plain": [
              "1778"
            ]
          },
          "execution_count": 16,
          "metadata": {},
          "output_type": "execute_result"
        }
      ],
      "source": [
        "len(test_loader.dataset)"
      ]
    },
    {
      "cell_type": "code",
      "execution_count": null,
      "metadata": {
        "id": "_TItaoSUdYji"
      },
      "outputs": [],
      "source": [
        "def get_accuracy(model, dataloader):\n",
        "    model.eval()\n",
        "    with torch.no_grad():\n",
        "        correct=0\n",
        "        for x, y in iter(dataloader):\n",
        "            out = model(x)\n",
        "            correct+=(torch.argmax(out, axis=1)==y).sum()\n",
        "        return correct/len(dataloader.dataset)"
      ]
    },
    {
      "cell_type": "code",
      "execution_count": null,
      "metadata": {
        "id": "Vm6uTTqBiiVq"
      },
      "outputs": [],
      "source": [
        "def train(model, optimizer, trainloader, testloader, epochs):\n",
        "    best_accuracy = -1\n",
        "    for epoch in range(epochs):\n",
        "        current_accuracy = get_accuracy(model, testloader)\n",
        "        print(\"Test accuracy: \", current_accuracy)\n",
        "\n",
        "        if current_accuracy > best_accuracy:\n",
        "          torch.save(model, 'best_model' + str(epoch) + '.pt')\n",
        "          best_accuracy = current_accuracy\n",
        "\n",
        "        model.train()\n",
        "        print(\"Epoch: \", epoch)\n",
        "        for x, y in iter(trainloader):\n",
        "            out = model(x)\n",
        "            l = loss(out, y)\n",
        "            optimizer.zero_grad()\n",
        "            l.backward()\n",
        "            optimizer.step()\n",
        "    print(\"Final accuracy: \", get_accuracy(model, testloader))"
      ]
    },
    {
      "cell_type": "code",
      "execution_count": null,
      "metadata": {
        "colab": {
          "base_uri": "https://localhost:8080/"
        },
        "id": "-t1PJ5ndiuGk",
        "outputId": "8e80e56e-bc50-4a64-b79b-ccea7a839548"
      },
      "outputs": [
        {
          "name": "stdout",
          "output_type": "stream",
          "text": [
            "Test accuracy:  tensor(0.0692)\n",
            "Epoch:  0\n",
            "Test accuracy:  tensor(0.5647)\n",
            "Epoch:  1\n",
            "Test accuracy:  tensor(0.5861)\n",
            "Epoch:  2\n",
            "Test accuracy:  tensor(0.5771)\n",
            "Epoch:  3\n",
            "Test accuracy:  tensor(0.5607)\n",
            "Epoch:  4\n",
            "Test accuracy:  tensor(0.6232)\n",
            "Epoch:  5\n",
            "Test accuracy:  tensor(0.6777)\n",
            "Epoch:  6\n",
            "Test accuracy:  tensor(0.6794)\n",
            "Epoch:  7\n",
            "Test accuracy:  tensor(0.7272)\n",
            "Epoch:  8\n",
            "Test accuracy:  tensor(0.5799)\n",
            "Epoch:  9\n",
            "Test accuracy:  tensor(0.7064)\n",
            "Epoch:  10\n",
            "Test accuracy:  tensor(0.7413)\n",
            "Epoch:  11\n",
            "Test accuracy:  tensor(0.7171)\n",
            "Epoch:  12\n",
            "Test accuracy:  tensor(0.7227)\n",
            "Epoch:  13\n",
            "Test accuracy:  tensor(0.7463)\n",
            "Epoch:  14\n",
            "Test accuracy:  tensor(0.7058)\n",
            "Epoch:  15\n",
            "Test accuracy:  tensor(0.6485)\n",
            "Epoch:  16\n",
            "Test accuracy:  tensor(0.7317)\n",
            "Epoch:  17\n",
            "Test accuracy:  tensor(0.5096)\n",
            "Epoch:  18\n",
            "Test accuracy:  tensor(0.7289)\n",
            "Epoch:  19\n",
            "Test accuracy:  tensor(0.6856)\n",
            "Epoch:  20\n",
            "Test accuracy:  tensor(0.7345)\n",
            "Epoch:  21\n",
            "Test accuracy:  tensor(0.6963)\n",
            "Epoch:  22\n",
            "Test accuracy:  tensor(0.7238)\n",
            "Epoch:  23\n",
            "Test accuracy:  tensor(0.6890)\n",
            "Epoch:  24\n",
            "Test accuracy:  tensor(0.7025)\n",
            "Epoch:  25\n",
            "Test accuracy:  tensor(0.7238)\n",
            "Epoch:  26\n",
            "Test accuracy:  tensor(0.7278)\n",
            "Epoch:  27\n",
            "Test accuracy:  tensor(0.7120)\n",
            "Epoch:  28\n",
            "Test accuracy:  tensor(0.6822)\n",
            "Epoch:  29\n",
            "Final accuracy:  tensor(0.6985)\n"
          ]
        }
      ],
      "source": [
        "train(model, optimizer, train_loader, test_loader, epochs=30)"
      ]
    }
  ],
  "metadata": {
    "colab": {
      "provenance": []
    },
    "kernelspec": {
      "display_name": "Python 3",
      "name": "python3"
    },
    "language_info": {
      "name": "python",
      "version": "3.12.3"
    }
  },
  "nbformat": 4,
  "nbformat_minor": 0
}
